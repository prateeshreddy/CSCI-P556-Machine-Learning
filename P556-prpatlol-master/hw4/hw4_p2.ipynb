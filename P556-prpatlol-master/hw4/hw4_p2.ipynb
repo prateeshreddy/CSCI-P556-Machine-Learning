{
 "cells": [
  {
   "cell_type": "markdown",
   "metadata": {},
   "source": [
    "# Homework 4: Part 2\n",
    "### Authors:\n",
    "\n",
    "### 1. Milind Vakharia  (mivakh)\n",
    "### 2. Prateesh Reddy ()"
   ]
  },
  {
   "cell_type": "code",
   "execution_count": 1,
   "metadata": {},
   "outputs": [],
   "source": [
    "# importing needed libraries\n",
    "\n",
    "from sklearn.datasets import fetch_openml\n",
    "import numpy as np\n",
    "from sklearn.preprocessing import StandardScaler\n",
    "import matplotlib.pyplot as plt\n",
    "from sklearn.ensemble import RandomForestClassifier\n",
    "from os import path\n",
    "from sklearn.metrics import confusion_matrix\n",
    "from sklearn.decomposition import PCA\n",
    "import time\n"
   ]
  },
  {
   "cell_type": "code",
   "execution_count": 2,
   "metadata": {},
   "outputs": [],
   "source": [
    "# loading the dataset\n",
    "\n",
    "mnist = fetch_openml('mnist_784')\n"
   ]
  },
  {
   "cell_type": "code",
   "execution_count": 3,
   "metadata": {},
   "outputs": [
    {
     "name": "stdout",
     "output_type": "stream",
     "text": [
      "{'data': array([[0., 0., 0., ..., 0., 0., 0.],\n",
      "       [0., 0., 0., ..., 0., 0., 0.],\n",
      "       [0., 0., 0., ..., 0., 0., 0.],\n",
      "       ...,\n",
      "       [0., 0., 0., ..., 0., 0., 0.],\n",
      "       [0., 0., 0., ..., 0., 0., 0.],\n",
      "       [0., 0., 0., ..., 0., 0., 0.]]), 'target': array(['5', '0', '4', ..., '4', '5', '6'], dtype=object), 'frame': None, 'categories': {}, 'feature_names': ['pixel1', 'pixel2', 'pixel3', 'pixel4', 'pixel5', 'pixel6', 'pixel7', 'pixel8', 'pixel9', 'pixel10', 'pixel11', 'pixel12', 'pixel13', 'pixel14', 'pixel15', 'pixel16', 'pixel17', 'pixel18', 'pixel19', 'pixel20', 'pixel21', 'pixel22', 'pixel23', 'pixel24', 'pixel25', 'pixel26', 'pixel27', 'pixel28', 'pixel29', 'pixel30', 'pixel31', 'pixel32', 'pixel33', 'pixel34', 'pixel35', 'pixel36', 'pixel37', 'pixel38', 'pixel39', 'pixel40', 'pixel41', 'pixel42', 'pixel43', 'pixel44', 'pixel45', 'pixel46', 'pixel47', 'pixel48', 'pixel49', 'pixel50', 'pixel51', 'pixel52', 'pixel53', 'pixel54', 'pixel55', 'pixel56', 'pixel57', 'pixel58', 'pixel59', 'pixel60', 'pixel61', 'pixel62', 'pixel63', 'pixel64', 'pixel65', 'pixel66', 'pixel67', 'pixel68', 'pixel69', 'pixel70', 'pixel71', 'pixel72', 'pixel73', 'pixel74', 'pixel75', 'pixel76', 'pixel77', 'pixel78', 'pixel79', 'pixel80', 'pixel81', 'pixel82', 'pixel83', 'pixel84', 'pixel85', 'pixel86', 'pixel87', 'pixel88', 'pixel89', 'pixel90', 'pixel91', 'pixel92', 'pixel93', 'pixel94', 'pixel95', 'pixel96', 'pixel97', 'pixel98', 'pixel99', 'pixel100', 'pixel101', 'pixel102', 'pixel103', 'pixel104', 'pixel105', 'pixel106', 'pixel107', 'pixel108', 'pixel109', 'pixel110', 'pixel111', 'pixel112', 'pixel113', 'pixel114', 'pixel115', 'pixel116', 'pixel117', 'pixel118', 'pixel119', 'pixel120', 'pixel121', 'pixel122', 'pixel123', 'pixel124', 'pixel125', 'pixel126', 'pixel127', 'pixel128', 'pixel129', 'pixel130', 'pixel131', 'pixel132', 'pixel133', 'pixel134', 'pixel135', 'pixel136', 'pixel137', 'pixel138', 'pixel139', 'pixel140', 'pixel141', 'pixel142', 'pixel143', 'pixel144', 'pixel145', 'pixel146', 'pixel147', 'pixel148', 'pixel149', 'pixel150', 'pixel151', 'pixel152', 'pixel153', 'pixel154', 'pixel155', 'pixel156', 'pixel157', 'pixel158', 'pixel159', 'pixel160', 'pixel161', 'pixel162', 'pixel163', 'pixel164', 'pixel165', 'pixel166', 'pixel167', 'pixel168', 'pixel169', 'pixel170', 'pixel171', 'pixel172', 'pixel173', 'pixel174', 'pixel175', 'pixel176', 'pixel177', 'pixel178', 'pixel179', 'pixel180', 'pixel181', 'pixel182', 'pixel183', 'pixel184', 'pixel185', 'pixel186', 'pixel187', 'pixel188', 'pixel189', 'pixel190', 'pixel191', 'pixel192', 'pixel193', 'pixel194', 'pixel195', 'pixel196', 'pixel197', 'pixel198', 'pixel199', 'pixel200', 'pixel201', 'pixel202', 'pixel203', 'pixel204', 'pixel205', 'pixel206', 'pixel207', 'pixel208', 'pixel209', 'pixel210', 'pixel211', 'pixel212', 'pixel213', 'pixel214', 'pixel215', 'pixel216', 'pixel217', 'pixel218', 'pixel219', 'pixel220', 'pixel221', 'pixel222', 'pixel223', 'pixel224', 'pixel225', 'pixel226', 'pixel227', 'pixel228', 'pixel229', 'pixel230', 'pixel231', 'pixel232', 'pixel233', 'pixel234', 'pixel235', 'pixel236', 'pixel237', 'pixel238', 'pixel239', 'pixel240', 'pixel241', 'pixel242', 'pixel243', 'pixel244', 'pixel245', 'pixel246', 'pixel247', 'pixel248', 'pixel249', 'pixel250', 'pixel251', 'pixel252', 'pixel253', 'pixel254', 'pixel255', 'pixel256', 'pixel257', 'pixel258', 'pixel259', 'pixel260', 'pixel261', 'pixel262', 'pixel263', 'pixel264', 'pixel265', 'pixel266', 'pixel267', 'pixel268', 'pixel269', 'pixel270', 'pixel271', 'pixel272', 'pixel273', 'pixel274', 'pixel275', 'pixel276', 'pixel277', 'pixel278', 'pixel279', 'pixel280', 'pixel281', 'pixel282', 'pixel283', 'pixel284', 'pixel285', 'pixel286', 'pixel287', 'pixel288', 'pixel289', 'pixel290', 'pixel291', 'pixel292', 'pixel293', 'pixel294', 'pixel295', 'pixel296', 'pixel297', 'pixel298', 'pixel299', 'pixel300', 'pixel301', 'pixel302', 'pixel303', 'pixel304', 'pixel305', 'pixel306', 'pixel307', 'pixel308', 'pixel309', 'pixel310', 'pixel311', 'pixel312', 'pixel313', 'pixel314', 'pixel315', 'pixel316', 'pixel317', 'pixel318', 'pixel319', 'pixel320', 'pixel321', 'pixel322', 'pixel323', 'pixel324', 'pixel325', 'pixel326', 'pixel327', 'pixel328', 'pixel329', 'pixel330', 'pixel331', 'pixel332', 'pixel333', 'pixel334', 'pixel335', 'pixel336', 'pixel337', 'pixel338', 'pixel339', 'pixel340', 'pixel341', 'pixel342', 'pixel343', 'pixel344', 'pixel345', 'pixel346', 'pixel347', 'pixel348', 'pixel349', 'pixel350', 'pixel351', 'pixel352', 'pixel353', 'pixel354', 'pixel355', 'pixel356', 'pixel357', 'pixel358', 'pixel359', 'pixel360', 'pixel361', 'pixel362', 'pixel363', 'pixel364', 'pixel365', 'pixel366', 'pixel367', 'pixel368', 'pixel369', 'pixel370', 'pixel371', 'pixel372', 'pixel373', 'pixel374', 'pixel375', 'pixel376', 'pixel377', 'pixel378', 'pixel379', 'pixel380', 'pixel381', 'pixel382', 'pixel383', 'pixel384', 'pixel385', 'pixel386', 'pixel387', 'pixel388', 'pixel389', 'pixel390', 'pixel391', 'pixel392', 'pixel393', 'pixel394', 'pixel395', 'pixel396', 'pixel397', 'pixel398', 'pixel399', 'pixel400', 'pixel401', 'pixel402', 'pixel403', 'pixel404', 'pixel405', 'pixel406', 'pixel407', 'pixel408', 'pixel409', 'pixel410', 'pixel411', 'pixel412', 'pixel413', 'pixel414', 'pixel415', 'pixel416', 'pixel417', 'pixel418', 'pixel419', 'pixel420', 'pixel421', 'pixel422', 'pixel423', 'pixel424', 'pixel425', 'pixel426', 'pixel427', 'pixel428', 'pixel429', 'pixel430', 'pixel431', 'pixel432', 'pixel433', 'pixel434', 'pixel435', 'pixel436', 'pixel437', 'pixel438', 'pixel439', 'pixel440', 'pixel441', 'pixel442', 'pixel443', 'pixel444', 'pixel445', 'pixel446', 'pixel447', 'pixel448', 'pixel449', 'pixel450', 'pixel451', 'pixel452', 'pixel453', 'pixel454', 'pixel455', 'pixel456', 'pixel457', 'pixel458', 'pixel459', 'pixel460', 'pixel461', 'pixel462', 'pixel463', 'pixel464', 'pixel465', 'pixel466', 'pixel467', 'pixel468', 'pixel469', 'pixel470', 'pixel471', 'pixel472', 'pixel473', 'pixel474', 'pixel475', 'pixel476', 'pixel477', 'pixel478', 'pixel479', 'pixel480', 'pixel481', 'pixel482', 'pixel483', 'pixel484', 'pixel485', 'pixel486', 'pixel487', 'pixel488', 'pixel489', 'pixel490', 'pixel491', 'pixel492', 'pixel493', 'pixel494', 'pixel495', 'pixel496', 'pixel497', 'pixel498', 'pixel499', 'pixel500', 'pixel501', 'pixel502', 'pixel503', 'pixel504', 'pixel505', 'pixel506', 'pixel507', 'pixel508', 'pixel509', 'pixel510', 'pixel511', 'pixel512', 'pixel513', 'pixel514', 'pixel515', 'pixel516', 'pixel517', 'pixel518', 'pixel519', 'pixel520', 'pixel521', 'pixel522', 'pixel523', 'pixel524', 'pixel525', 'pixel526', 'pixel527', 'pixel528', 'pixel529', 'pixel530', 'pixel531', 'pixel532', 'pixel533', 'pixel534', 'pixel535', 'pixel536', 'pixel537', 'pixel538', 'pixel539', 'pixel540', 'pixel541', 'pixel542', 'pixel543', 'pixel544', 'pixel545', 'pixel546', 'pixel547', 'pixel548', 'pixel549', 'pixel550', 'pixel551', 'pixel552', 'pixel553', 'pixel554', 'pixel555', 'pixel556', 'pixel557', 'pixel558', 'pixel559', 'pixel560', 'pixel561', 'pixel562', 'pixel563', 'pixel564', 'pixel565', 'pixel566', 'pixel567', 'pixel568', 'pixel569', 'pixel570', 'pixel571', 'pixel572', 'pixel573', 'pixel574', 'pixel575', 'pixel576', 'pixel577', 'pixel578', 'pixel579', 'pixel580', 'pixel581', 'pixel582', 'pixel583', 'pixel584', 'pixel585', 'pixel586', 'pixel587', 'pixel588', 'pixel589', 'pixel590', 'pixel591', 'pixel592', 'pixel593', 'pixel594', 'pixel595', 'pixel596', 'pixel597', 'pixel598', 'pixel599', 'pixel600', 'pixel601', 'pixel602', 'pixel603', 'pixel604', 'pixel605', 'pixel606', 'pixel607', 'pixel608', 'pixel609', 'pixel610', 'pixel611', 'pixel612', 'pixel613', 'pixel614', 'pixel615', 'pixel616', 'pixel617', 'pixel618', 'pixel619', 'pixel620', 'pixel621', 'pixel622', 'pixel623', 'pixel624', 'pixel625', 'pixel626', 'pixel627', 'pixel628', 'pixel629', 'pixel630', 'pixel631', 'pixel632', 'pixel633', 'pixel634', 'pixel635', 'pixel636', 'pixel637', 'pixel638', 'pixel639', 'pixel640', 'pixel641', 'pixel642', 'pixel643', 'pixel644', 'pixel645', 'pixel646', 'pixel647', 'pixel648', 'pixel649', 'pixel650', 'pixel651', 'pixel652', 'pixel653', 'pixel654', 'pixel655', 'pixel656', 'pixel657', 'pixel658', 'pixel659', 'pixel660', 'pixel661', 'pixel662', 'pixel663', 'pixel664', 'pixel665', 'pixel666', 'pixel667', 'pixel668', 'pixel669', 'pixel670', 'pixel671', 'pixel672', 'pixel673', 'pixel674', 'pixel675', 'pixel676', 'pixel677', 'pixel678', 'pixel679', 'pixel680', 'pixel681', 'pixel682', 'pixel683', 'pixel684', 'pixel685', 'pixel686', 'pixel687', 'pixel688', 'pixel689', 'pixel690', 'pixel691', 'pixel692', 'pixel693', 'pixel694', 'pixel695', 'pixel696', 'pixel697', 'pixel698', 'pixel699', 'pixel700', 'pixel701', 'pixel702', 'pixel703', 'pixel704', 'pixel705', 'pixel706', 'pixel707', 'pixel708', 'pixel709', 'pixel710', 'pixel711', 'pixel712', 'pixel713', 'pixel714', 'pixel715', 'pixel716', 'pixel717', 'pixel718', 'pixel719', 'pixel720', 'pixel721', 'pixel722', 'pixel723', 'pixel724', 'pixel725', 'pixel726', 'pixel727', 'pixel728', 'pixel729', 'pixel730', 'pixel731', 'pixel732', 'pixel733', 'pixel734', 'pixel735', 'pixel736', 'pixel737', 'pixel738', 'pixel739', 'pixel740', 'pixel741', 'pixel742', 'pixel743', 'pixel744', 'pixel745', 'pixel746', 'pixel747', 'pixel748', 'pixel749', 'pixel750', 'pixel751', 'pixel752', 'pixel753', 'pixel754', 'pixel755', 'pixel756', 'pixel757', 'pixel758', 'pixel759', 'pixel760', 'pixel761', 'pixel762', 'pixel763', 'pixel764', 'pixel765', 'pixel766', 'pixel767', 'pixel768', 'pixel769', 'pixel770', 'pixel771', 'pixel772', 'pixel773', 'pixel774', 'pixel775', 'pixel776', 'pixel777', 'pixel778', 'pixel779', 'pixel780', 'pixel781', 'pixel782', 'pixel783', 'pixel784'], 'target_names': ['class'], 'DESCR': \"The MNIST database of handwritten digits with 784 features. It can be split in a training set of the first 60,000 examples, and a test set of 10,000 examples  \\n\\nIt is a subset of a larger set available from NIST. The digits have been size-normalized and centered in a fixed-size image. It is a good database for people who want to try learning techniques and pattern recognition methods on real-world data while spending minimal efforts on preprocessing and formatting. The original black and white (bilevel) images from NIST were size normalized to fit in a 20x20 pixel box while preserving their aspect ratio. The resulting images contain grey levels as a result of the anti-aliasing technique used by the normalization algorithm. the images were centered in a 28x28 image by computing the center of mass of the pixels, and translating the image so as to position this point at the center of the 28x28 field.  \\n\\nWith some classification methods (particularly template-based methods, such as SVM and K-nearest neighbors), the error rate improves when the digits are centered by bounding box rather than center of mass. If you do this kind of pre-processing, you should report it in your publications. The MNIST database was constructed from NIST's NIST originally designated SD-3 as their training set and SD-1 as their test set. However, SD-3 is much cleaner and easier to recognize than SD-1. The reason for this can be found on the fact that SD-3 was collected among Census Bureau employees, while SD-1 was collected among high-school students. Drawing sensible conclusions from learning experiments requires that the result be independent of the choice of training set and test among the complete set of samples. Therefore it was necessary to build a new database by mixing NIST's datasets.  \\n\\nThe MNIST training set is composed of 30,000 patterns from SD-3 and 30,000 patterns from SD-1. Our test set was composed of 5,000 patterns from SD-3 and 5,000 patterns from SD-1. The 60,000 pattern training set contained examples from approximately 250 writers. We made sure that the sets of writers of the training set and test set were disjoint. SD-1 contains 58,527 digit images written by 500 different writers. In contrast to SD-3, where blocks of data from each writer appeared in sequence, the data in SD-1 is scrambled. Writer identities for SD-1 is available and we used this information to unscramble the writers. We then split SD-1 in two: characters written by the first 250 writers went into our new training set. The remaining 250 writers were placed in our test set. Thus we had two sets with nearly 30,000 examples each. The new training set was completed with enough examples from SD-3, starting at pattern # 0, to make a full set of 60,000 training patterns. Similarly, the new test set was completed with SD-3 examples starting at pattern # 35,000 to make a full set with 60,000 test patterns. Only a subset of 10,000 test images (5,000 from SD-1 and 5,000 from SD-3) is available on this site. The full 60,000 sample training set is available.\\n\\nDownloaded from openml.org.\", 'details': {'id': '554', 'name': 'mnist_784', 'version': '1', 'format': 'ARFF', 'creator': ['Yann LeCun', 'Corinna Cortes', 'Christopher J.C. Burges'], 'upload_date': '2014-09-29T03:28:38', 'language': 'English', 'licence': 'Public', 'url': 'https://www.openml.org/data/v1/download/52667/mnist_784.arff', 'file_id': '52667', 'default_target_attribute': 'class', 'tag': ['AzurePilot', 'OpenML-CC18', 'OpenML100', 'study_1', 'study_123', 'study_41', 'study_99', 'vision'], 'visibility': 'public', 'status': 'active', 'processing_date': '2020-11-20 20:12:09', 'md5_checksum': '0298d579eb1b86163de7723944c7e495'}, 'url': 'https://www.openml.org/d/554'}\n"
     ]
    }
   ],
   "source": [
    "print(mnist)"
   ]
  },
  {
   "cell_type": "code",
   "execution_count": 4,
   "metadata": {},
   "outputs": [
    {
     "name": "stdout",
     "output_type": "stream",
     "text": [
      "(70000, 784) (70000,)\n"
     ]
    }
   ],
   "source": [
    "X,y=mnist[\"data\"],mnist[\"target\"]\n",
    "y=y.astype(int)\n",
    "X=((X/255.)-.5)*2\n",
    "print(X.shape,y.shape)\n"
   ]
  },
  {
   "cell_type": "code",
   "execution_count": 5,
   "metadata": {},
   "outputs": [
    {
     "name": "stdout",
     "output_type": "stream",
     "text": [
      "(60000, 784) (10000, 784) (60000,) (10000,)\n"
     ]
    }
   ],
   "source": [
    "# splitting the dataset into 60,000 training images and remaining for testing\n",
    "\n",
    "X_train, X_test, y_train, y_test = X[:60000], X[60000:], y[:60000], y[60000:]\n",
    "print(X_train.shape,X_test.shape,y_train.shape,y_test.shape)\n",
    "\n",
    "# scaling the data\n",
    "scaler = StandardScaler()\n",
    "scaler.fit(X_train)\n",
    "X_train = scaler.transform(X_train)\n",
    "X_test = scaler.transform(X_test)"
   ]
  },
  {
   "cell_type": "code",
   "execution_count": 6,
   "metadata": {},
   "outputs": [],
   "source": [
    "# initialising the classifier \n",
    "\n",
    "rfcl = RandomForestClassifier(n_jobs=-1)"
   ]
  },
  {
   "cell_type": "code",
   "execution_count": 7,
   "metadata": {},
   "outputs": [
    {
     "name": "stdout",
     "output_type": "stream",
     "text": [
      "Training takes 6.42 seconds\n"
     ]
    }
   ],
   "source": [
    "# training the data and calculating the time taken\n",
    "\n",
    "start = time.time()\n",
    "rfcl.fit(X_train, y_train)\n",
    "y_pred_rf = rfcl.predict(X_test)\n",
    "end = time.time()\n",
    "print(\"Training takes \" + str(round(end-start, 2)) +\" seconds\")\n"
   ]
  },
  {
   "cell_type": "markdown",
   "metadata": {},
   "source": [
    "### It took approximately 7 seconds to train the MNIST training dataset without PCA."
   ]
  },
  {
   "cell_type": "code",
   "execution_count": 8,
   "metadata": {},
   "outputs": [
    {
     "name": "stdout",
     "output_type": "stream",
     "text": [
      "[[ 972    1    0    0    0    2    1    1    2    1]\n",
      " [   0 1123    4    1    0    2    2    0    2    1]\n",
      " [   5    0 1001    6    3    0    3    8    6    0]\n",
      " [   0    0   11  973    0    6    0    8    8    4]\n",
      " [   1    0    2    0  959    0    4    0    2   14]\n",
      " [   3    0    1   12    3  858    6    1    7    1]\n",
      " [   6    3    0    0    4    4  939    0    2    0]\n",
      " [   1    2   18    1    1    0    0  998    2    5]\n",
      " [   4    0    4    9    4    9    5    4  926    9]\n",
      " [   8    4    3    9   12    2    1    3    8  959]]\n"
     ]
    }
   ],
   "source": [
    "# Confusion Matrix\n",
    "\n",
    "conf_matrix = confusion_matrix(y_test, y_pred_rf)\n",
    "print(conf_matrix)"
   ]
  },
  {
   "cell_type": "code",
   "execution_count": 9,
   "metadata": {},
   "outputs": [
    {
     "name": "stdout",
     "output_type": "stream",
     "text": [
      "For number 0 accuracy is 99.18367346938776%\n",
      "For number 1 accuracy is 98.94273127753304%\n",
      "For number 2 accuracy is 96.99612403100775%\n",
      "For number 3 accuracy is 96.33663366336633%\n",
      "For number 4 accuracy is 97.65784114052953%\n",
      "For number 5 accuracy is 96.18834080717488%\n",
      "For number 6 accuracy is 98.01670146137788%\n",
      "For number 7 accuracy is 97.08171206225681%\n",
      "For number 8 accuracy is 95.07186858316223%\n",
      "For number 9 accuracy is 95.0445986124876%\n",
      "\n",
      "Overall Accuracy: 97.05%\n"
     ]
    }
   ],
   "source": [
    "# Accuracy\n",
    "\n",
    "diagonal_elements = conf_matrix.diagonal()\n",
    "acc_list = []\n",
    "for i in range(0,10):\n",
    "    accuracy = (diagonal_elements[i]/conf_matrix[i].sum())*100\n",
    "    acc_list.append(accuracy)\n",
    "    print(\"For number \" + str(i) +\" accuracy is \" + str(accuracy) + \"%\")\n",
    "    \n",
    "print()\n",
    "print(\"Overall Accuracy: \" + str(round(sum(acc_list)/len(acc_list),2)) + \"%\")\n"
   ]
  },
  {
   "cell_type": "markdown",
   "metadata": {},
   "source": [
    "### Overall accuracy is approximately 97% without PCA."
   ]
  },
  {
   "cell_type": "markdown",
   "metadata": {},
   "source": [
    "### Performing PCA with different Variance Ratios:"
   ]
  },
  {
   "cell_type": "code",
   "execution_count": 10,
   "metadata": {},
   "outputs": [
    {
     "name": "stdout",
     "output_type": "stream",
     "text": [
      "\n",
      "----------------------------------------------------\n",
      "VARIANCE RATIO: 0.95\n",
      "----------------------------------------------------\n",
      "\n",
      "Training takes 22.05 seconds\n",
      "\n",
      "Confusion matrix: \n",
      "[[ 957    0    2    2    1    5   10    2    1    0]\n",
      " [   0 1118    5    1    2    1    5    0    3    0]\n",
      " [  12    0  954   24    5    2    5   10   20    0]\n",
      " [   0    0   11  947    1   12    1   17   16    5]\n",
      " [   1    0    7    1  935    0    9    5    3   21]\n",
      " [   7    0    5   32    5  808   11    6   13    5]\n",
      " [  11    2    3    0    4   13  923    0    2    0]\n",
      " [   1    6   20    7    9    0    0  956    2   27]\n",
      " [   9    0   10   20   11   22    8    7  883    4]\n",
      " [   7    4    4   16   29    4    0   29    8  908]]\n",
      "\n",
      "For number 0 accuracy is 97.6530612244898%\n",
      "For number 1 accuracy is 98.50220264317181%\n",
      "For number 2 accuracy is 92.44186046511628%\n",
      "For number 3 accuracy is 93.76237623762376%\n",
      "For number 4 accuracy is 95.21384928716904%\n",
      "For number 5 accuracy is 90.5829596412556%\n",
      "For number 6 accuracy is 96.3465553235908%\n",
      "For number 7 accuracy is 92.99610894941634%\n",
      "For number 8 accuracy is 90.65708418891171%\n",
      "For number 9 accuracy is 89.99008919722498%\n",
      "\n",
      "Overall Accuracy: 93.81%\n",
      "\n",
      "\n",
      "----------------------------------------------------\n",
      "VARIANCE RATIO: 0.9\n",
      "----------------------------------------------------\n",
      "\n",
      "Training takes 15.5 seconds\n",
      "\n",
      "Confusion matrix: \n",
      "[[ 960    0    2    3    2    3    6    2    2    0]\n",
      " [   0 1118    4    3    2    1    5    0    2    0]\n",
      " [  10    0  963   18    3    0    5   10   21    2]\n",
      " [   0    0   12  948    1   12    1   14   15    7]\n",
      " [   2    0    7    1  937    0    8    5    3   19]\n",
      " [   4    0    3   39    3  816   11    4    6    6]\n",
      " [   8    2    5    1    4   15  921    0    2    0]\n",
      " [   1    9   21    4   12    0    0  950    3   28]\n",
      " [   7    0    9   25   10   21    5    7  887    3]\n",
      " [   5    4    4   16   27    5    0   22    6  920]]\n",
      "\n",
      "For number 0 accuracy is 97.95918367346938%\n",
      "For number 1 accuracy is 98.50220264317181%\n",
      "For number 2 accuracy is 93.31395348837209%\n",
      "For number 3 accuracy is 93.86138613861385%\n",
      "For number 4 accuracy is 95.41751527494908%\n",
      "For number 5 accuracy is 91.4798206278027%\n",
      "For number 6 accuracy is 96.13778705636743%\n",
      "For number 7 accuracy is 92.41245136186771%\n",
      "For number 8 accuracy is 91.06776180698152%\n",
      "For number 9 accuracy is 91.17938553022795%\n",
      "\n",
      "Overall Accuracy: 94.13%\n",
      "\n",
      "\n",
      "----------------------------------------------------\n",
      "VARIANCE RATIO: 0.85\n",
      "----------------------------------------------------\n",
      "\n",
      "Training takes 12.07 seconds\n",
      "\n",
      "Confusion matrix: \n",
      "[[ 959    0    1    2    1    3   10    2    2    0]\n",
      " [   0 1119    4    1    2    1    5    0    3    0]\n",
      " [   8    0  970   17    5    1    5    8   17    1]\n",
      " [   1    0   12  947    1   16    1   17   12    3]\n",
      " [   1    0    7    1  941    0    7    5    3   17]\n",
      " [   5    0    3   31    5  823    8    4    8    5]\n",
      " [   7    3    4    0    3   15  924    0    2    0]\n",
      " [   1    7   21    5    7    0    0  960    2   25]\n",
      " [   7    0   11   29   11   18    3    5  885    5]\n",
      " [   8    4    5   13   28    6    0   17    5  923]]\n",
      "\n",
      "For number 0 accuracy is 97.85714285714285%\n",
      "For number 1 accuracy is 98.59030837004406%\n",
      "For number 2 accuracy is 93.9922480620155%\n",
      "For number 3 accuracy is 93.76237623762376%\n",
      "For number 4 accuracy is 95.82484725050917%\n",
      "For number 5 accuracy is 92.2645739910314%\n",
      "For number 6 accuracy is 96.4509394572025%\n",
      "For number 7 accuracy is 93.3852140077821%\n",
      "For number 8 accuracy is 90.86242299794661%\n",
      "For number 9 accuracy is 91.47670961347869%\n",
      "\n",
      "Overall Accuracy: 94.45%\n",
      "\n"
     ]
    }
   ],
   "source": [
    "# Performing PCA with different variance ratios\n",
    "\n",
    "cov_list = [0.95, 0.90, 0.85]\n",
    "overall_acc = []\n",
    "training_time = []\n",
    "\n",
    "for cov in cov_list:\n",
    "    print()\n",
    "    print(\"----------------------------------------------------\")\n",
    "    print(\"VARIANCE RATIO: \" + str(cov))\n",
    "    print(\"----------------------------------------------------\")\n",
    "    print()\n",
    "    \n",
    "    pca = PCA(n_components=cov, svd_solver='full')\n",
    "    X_train = pca.fit_transform(X_train)\n",
    "    X_test = pca.transform(X_test)\n",
    "    \n",
    "    rfcl = RandomForestClassifier(n_jobs=-1)\n",
    "    \n",
    "    start = time.time()\n",
    "    rfcl.fit(X_train, y_train)\n",
    "    y_pred_rf = rfcl.predict(X_test)\n",
    "    end = time.time()\n",
    "    \n",
    "    print(\"Training takes \" + str(round(end-start, 2)) +\" seconds\")\n",
    "    print()\n",
    "\n",
    "    training_time.append(end - start)\n",
    "    \n",
    "    conf_matrix = confusion_matrix(y_test, y_pred_rf)\n",
    "    \n",
    "    print(\"Confusion matrix: \")\n",
    "    print(conf_matrix)\n",
    "    print()\n",
    "\n",
    "    diagonal_elements = conf_matrix.diagonal()\n",
    "    acc_list = []\n",
    "    for i in range(0,10):\n",
    "        accuracy = (diagonal_elements[i]/conf_matrix[i].sum())*100\n",
    "        acc_list.append(accuracy)\n",
    "        print(\"For number \" + str(i) +\" accuracy is \" + str(accuracy) + \"%\")\n",
    "    \n",
    "    overall_acc.append(round(sum(acc_list)/len(acc_list),2))\n",
    "    print()\n",
    "    print(\"Overall Accuracy: \" + str(round(sum(acc_list)/len(acc_list),2)) + \"%\")\n",
    "    print()\n",
    "    "
   ]
  },
  {
   "cell_type": "code",
   "execution_count": 11,
   "metadata": {},
   "outputs": [
    {
     "data": {
      "image/png": "[encoded data removed]",
      "text/plain": [
       "<Figure size 720x360 with 1 Axes>"
      ]
     },
     "metadata": {
      "needs_background": "light"
     },
     "output_type": "display_data"
    }
   ],
   "source": [
    "# plotting accuracy against different variance ratios \n",
    "\n",
    "plt.figure(figsize=(10,5))\n",
    "\n",
    "plt.plot(cov_list,overall_acc, color='green', linestyle='dashed', linewidth = 3,\n",
    "         marker='o', markerfacecolor='blue', markersize=12)\n",
    "plt.xlim(0.98,0.84)\n",
    "plt.ylim(88,100)\n",
    "plt.title(\"PCA dataset accuracy performance\")\n",
    "plt.xlabel(\"Variance Ratio\")\n",
    "plt.ylabel(\"Accuracy (%)\")\n",
    "plt.show()"
   ]
  },
  {
   "cell_type": "code",
   "execution_count": 12,
   "metadata": {},
   "outputs": [
    {
     "data": {
      "image/png": "[encoded data removed]",
      "text/plain": [
       "<Figure size 720x360 with 1 Axes>"
      ]
     },
     "metadata": {
      "needs_background": "light"
     },
     "output_type": "display_data"
    }
   ],
   "source": [
    "# plotting time taken to train considering different variance ratios\n",
    "\n",
    "plt.figure(figsize=(10,5))\n",
    "\n",
    "plt.plot(cov_list,training_time, color='green', linestyle='dashed', linewidth = 3,\n",
    "         marker='o', markerfacecolor='blue', markersize=12)\n",
    "plt.xlim(0.98,0.84)\n",
    "plt.title(\"PCA dataset training time performance\")\n",
    "plt.xlabel(\"Variance Ratio\")\n",
    "plt.ylabel(\"Training Time in seconds\")\n",
    "plt.show()"
   ]
  },
  {
   "cell_type": "markdown",
   "metadata": {},
   "source": [
    "## Looking at the above values, many observations can be made with respect to two main attributes i.e., Training time and Accuracy. \n",
    "\n",
    "### The observations made with respect to Training Time:\n",
    "1. Without performing reduction in dimensions (PCA), the training time is very less (approximately 7 seconds) whereas after performing PCA, the training time has increased drastically (approx 15 - 20 seconds). This is more than a 100% increase in training time.\n",
    "\n",
    "2. After performing PCA, training time varies with respect to the variance ratio. As the variance ratio decreases, the training time decreases. \n",
    "\n",
    "### The observations made with respect to Accuracy:\n",
    "1. Without performing reduction in dimensions (PCA), the accuracy is high (approximately 97%) whereas after performing PCA, the accuracy has decreased but still at a significantly good level.\n",
    "\n",
    "2. After performing PCA, accuracy varies with respect to the variance ratio. As the variance ratio decreases, the accuracy steadily increases. \n",
    "\n"
   ]
  }
 ],
 "metadata": {
  "kernelspec": {
   "display_name": "Python 3",
   "language": "python",
   "name": "python3"
  },
  "language_info": {
   "codemirror_mode": {
    "name": "ipython",
    "version": 3
   },
   "file_extension": ".py",
   "mimetype": "text/x-python",
   "name": "python",
   "nbconvert_exporter": "python",
   "pygments_lexer": "ipython3",
   "version": "3.8.5"
  }
 },
 "nbformat": 4,
 "nbformat_minor": 4
}
